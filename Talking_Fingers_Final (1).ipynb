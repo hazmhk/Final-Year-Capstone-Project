{
  "cells": [
    {
      "cell_type": "code",
      "execution_count": null,
      "metadata": {
        "colab": {
          "base_uri": "https://localhost:8080/"
        },
        "id": "5Vdz9vVwzfAW",
        "outputId": "fba029a6-e0d9-4d12-b123-4e84a0589dce"
      },
      "outputs": [
        {
          "output_type": "stream",
          "name": "stdout",
          "text": [
            "Drive already mounted at /content/drive; to attempt to forcibly remount, call drive.mount(\"/content/drive\", force_remount=True).\n"
          ]
        }
      ],
      "source": [
        "from google.colab import drive\n",
        "drive.mount('/content/drive')"
      ]
    },
    {
      "cell_type": "code",
      "execution_count": null,
      "metadata": {
        "colab": {
          "base_uri": "https://localhost:8080/"
        },
        "id": "5Akf_y-xz4YP",
        "outputId": "91e564cb-e318-4138-b5e0-244e4efe0350"
      },
      "outputs": [
        {
          "output_type": "stream",
          "name": "stdout",
          "text": [
            "Archive:  /content/drive/MyDrive/stanford-parser-4.2.0.zip\n",
            "replace stanford-parser-full-2020-11-17/ejml-simple-0.38.jar? [y]es, [n]o, [A]ll, [N]one, [r]ename: Traceback (most recent call last):\n",
            "\n",
            "^C\n"
          ]
        }
      ],
      "source": [
        "!unzip '/content/drive/MyDrive/stanford-parser-4.2.0.zip'\n",
        "!pip install svgling"
      ]
    },
    {
      "cell_type": "code",
      "execution_count": null,
      "metadata": {
        "id": "7eINAWxG0Ool"
      },
      "outputs": [],
      "source": [
        "import os\n",
        "from nltk.parse.stanford import StanfordParser\n",
        "from nltk import ParentedTree, Tree\n",
        "import nltk\n",
        "from nltk.corpus import stopwords\n",
        "from nltk.stem import WordNetLemmatizer\n",
        "from nltk.stem import PorterStemmer\n",
        "import re"
      ]
    },
    {
      "cell_type": "code",
      "execution_count": null,
      "metadata": {
        "colab": {
          "base_uri": "https://localhost:8080/"
        },
        "id": "NCpp_yzC0XPq",
        "outputId": "2193acc9-1790-48c0-d218-4793edac9a02"
      },
      "outputs": [
        {
          "output_type": "stream",
          "name": "stderr",
          "text": [
            "[nltk_data] Downloading package stopwords to /root/nltk_data...\n",
            "[nltk_data]   Package stopwords is already up-to-date!\n",
            "[nltk_data] Downloading package wordnet to /root/nltk_data...\n",
            "[nltk_data]   Package wordnet is already up-to-date!\n",
            "[nltk_data] Downloading package omw-1.4 to /root/nltk_data...\n",
            "[nltk_data]   Package omw-1.4 is already up-to-date!\n"
          ]
        },
        {
          "output_type": "execute_result",
          "data": {
            "text/plain": [
              "True"
            ]
          },
          "metadata": {},
          "execution_count": 3
        }
      ],
      "source": [
        "nltk.download('stopwords')\n",
        "nltk.download('wordnet')\n",
        "nltk.download('omw-1.4')"
      ]
    },
    {
      "cell_type": "code",
      "execution_count": null,
      "metadata": {
        "id": "ZvrgboeY0Xxx"
      },
      "outputs": [],
      "source": [
        "java_path = \"/usr/lib/jvm/java-11-openjdk-amd64/bin/java\"\n",
        "os.environ['JAVAHOME'] = java_path"
      ]
    },
    {
      "cell_type": "code",
      "execution_count": null,
      "metadata": {
        "colab": {
          "base_uri": "https://localhost:8080/"
        },
        "id": "lXqCMTmp7gn6",
        "outputId": "11bfb8f0-db8a-4537-d8a9-731d9c9ac34b"
      },
      "outputs": [
        {
          "output_type": "stream",
          "name": "stderr",
          "text": [
            "<ipython-input-5-f7ffa9ee7245>:1: DeprecationWarning: The StanfordParser will be deprecated\n",
            "Please use \u001b[91mnltk.parse.corenlp.CoreNLPParser\u001b[0m instead.\n",
            "  sp = StanfordParser(path_to_jar='stanford-parser-full-2020-11-17/stanford-parser.jar',\n"
          ]
        }
      ],
      "source": [
        "sp = StanfordParser(path_to_jar='stanford-parser-full-2020-11-17/stanford-parser.jar',\n",
        "                    path_to_models_jar='stanford-parser-full-2020-11-17/stanford-parser-4.2.0-models.jar')"
      ]
    },
    {
      "cell_type": "code",
      "execution_count": null,
      "metadata": {
        "id": "wSbGpGKd7mum"
      },
      "outputs": [],
      "source": [
        "stopwords_set = set(['a', 'an', 'the', 'is','to','The','in','of','us'])"
      ]
    },
    {
      "cell_type": "code",
      "execution_count": null,
      "metadata": {
        "id": "2hoYs_8o8a9J"
      },
      "outputs": [],
      "source": [
        "def convert_isl(parsetree):\n",
        "  dict = {}\n",
        "  parenttree= ParentedTree.convert(parsetree)\n",
        "  for sub in parenttree.subtrees():\n",
        "    dict[sub.treeposition()]=0\n",
        "  #\"----------------------------------------------\"\n",
        "  isltree=Tree('ROOT',[])\n",
        "  i=0\n",
        "  for sub in parenttree.subtrees():\n",
        "    if(sub.label()==\"NP\" and dict[sub.treeposition()]==0 and dict[sub.parent().treeposition()]==0):\n",
        "      dict[sub.treeposition()]=1\n",
        "      isltree.insert(i,sub)\n",
        "      i=i+1\n",
        "\n",
        "    if(sub.label()==\"VP\" or sub.label()==\"PRP\"):\n",
        "      for sub2 in sub.subtrees():\n",
        "        if((sub2.label()==\"NP\" or sub2.label()=='PRP') and dict[sub2.treeposition()]==0 and dict[sub2.parent().treeposition()]==0):\n",
        "          dict[sub2.treeposition()]=1\n",
        "          isltree.insert(i,sub2)\n",
        "          i=i+1\n",
        "\n",
        "  for sub in parenttree.subtrees():\n",
        "    for sub2 in sub.subtrees():\n",
        "      if(len(sub2.leaves())==1 and dict[sub2.treeposition()]==0 and dict[sub2.parent().treeposition()]==0):\n",
        "          dict[sub2.treeposition()]=1\n",
        "          isltree.insert(i,sub2)\n",
        "          i=i+1\n",
        "\n",
        "  return isltree"
      ]
    },
    {
      "cell_type": "code",
      "execution_count": null,
      "metadata": {
        "id": "lfnnY61K8f-e"
      },
      "outputs": [],
      "source": [
        "def text_to_isl(sentence):\n",
        "  pattern = r'[^\\w\\s]'\n",
        "\n",
        "# Remove the punctuation marks from the sentence\n",
        "  sentence = re.sub(pattern, '', sentence)\n",
        "  englishtree=[tree for tree in sp.parse(sentence.split())]\n",
        "  parsetree=englishtree[0]\n",
        "  #print(parsetree)\n",
        "  isl_tree = convert_isl(parsetree)\n",
        "  words=parsetree.leaves()\n",
        "  lemmatizer = WordNetLemmatizer()\n",
        "  ps = PorterStemmer()\n",
        "  lemmatized_words=[]\n",
        "  for w in words:\n",
        "    #w = ps.stem(w)\n",
        "   lemmatized_words.append(lemmatizer.lemmatize(w))\n",
        "   islsentence = \"\"\n",
        "   for w in lemmatized_words:\n",
        "    if w not in stopwords_set:\n",
        "      islsentence+=w\n",
        "      islsentence+=\" \"\n",
        "  #islsentence = clean(words)\n",
        "  islsentence = islsentence.lower()\n",
        "  isltree=[tree for tree in sp.parse(islsentence.split())]\n",
        "  return islsentence"
      ]
    },
    {
      "cell_type": "code",
      "execution_count": null,
      "metadata": {
        "colab": {
          "base_uri": "https://localhost:8080/"
        },
        "id": "qVmI3cBd8gqm",
        "outputId": "4cc3f364-5943-44dc-c3be-5c973302bd11"
      },
      "outputs": [
        {
          "output_type": "stream",
          "name": "stdout",
          "text": [
            "Requirement already satisfied: moviepy in /usr/local/lib/python3.10/dist-packages (1.0.3)\n",
            "Requirement already satisfied: decorator<5.0,>=4.0.2 in /usr/local/lib/python3.10/dist-packages (from moviepy) (4.4.2)\n",
            "Requirement already satisfied: imageio<3.0,>=2.5 in /usr/local/lib/python3.10/dist-packages (from moviepy) (2.36.1)\n",
            "Requirement already satisfied: imageio_ffmpeg>=0.2.0 in /usr/local/lib/python3.10/dist-packages (from moviepy) (0.5.1)\n",
            "Requirement already satisfied: tqdm<5.0,>=4.11.2 in /usr/local/lib/python3.10/dist-packages (from moviepy) (4.66.6)\n",
            "Requirement already satisfied: numpy>=1.17.3 in /usr/local/lib/python3.10/dist-packages (from moviepy) (1.26.4)\n",
            "Requirement already satisfied: requests<3.0,>=2.8.1 in /usr/local/lib/python3.10/dist-packages (from moviepy) (2.32.3)\n",
            "Requirement already satisfied: proglog<=1.0.0 in /usr/local/lib/python3.10/dist-packages (from moviepy) (0.1.10)\n",
            "Requirement already satisfied: pillow>=8.3.2 in /usr/local/lib/python3.10/dist-packages (from imageio<3.0,>=2.5->moviepy) (11.0.0)\n",
            "Requirement already satisfied: setuptools in /usr/local/lib/python3.10/dist-packages (from imageio_ffmpeg>=0.2.0->moviepy) (75.1.0)\n",
            "Requirement already satisfied: charset-normalizer<4,>=2 in /usr/local/lib/python3.10/dist-packages (from requests<3.0,>=2.8.1->moviepy) (3.4.0)\n",
            "Requirement already satisfied: idna<4,>=2.5 in /usr/local/lib/python3.10/dist-packages (from requests<3.0,>=2.8.1->moviepy) (3.10)\n",
            "Requirement already satisfied: urllib3<3,>=1.21.1 in /usr/local/lib/python3.10/dist-packages (from requests<3.0,>=2.8.1->moviepy) (2.2.3)\n",
            "Requirement already satisfied: certifi>=2017.4.17 in /usr/local/lib/python3.10/dist-packages (from requests<3.0,>=2.8.1->moviepy) (2024.8.30)\n",
            "Collecting pytube\n",
            "  Downloading pytube-15.0.0-py3-none-any.whl.metadata (5.0 kB)\n",
            "Downloading pytube-15.0.0-py3-none-any.whl (57 kB)\n",
            "\u001b[2K   \u001b[90m━━━━━━━━━━━━━━━━━━━━━━━━━━━━━━━━━━━━━━━━\u001b[0m \u001b[32m57.6/57.6 kB\u001b[0m \u001b[31m2.4 MB/s\u001b[0m eta \u001b[36m0:00:00\u001b[0m\n",
            "\u001b[?25hInstalling collected packages: pytube\n",
            "Successfully installed pytube-15.0.0\n"
          ]
        }
      ],
      "source": [
        "!pip install moviepy\n",
        "!pip install pytube"
      ]
    },
    {
      "cell_type": "code",
      "execution_count": null,
      "metadata": {
        "id": "UZfxk-Aq8ihZ"
      },
      "outputs": [],
      "source": [
        "from pytube import YouTube\n",
        "def get_yt(link,path):\n",
        "  yt = YouTube(link)\n",
        "  yt.streams.filter(file_extension=\"mp4\").get_by_resolution(\"360p\").download(path)"
      ]
    },
    {
      "cell_type": "code",
      "execution_count": null,
      "metadata": {
        "id": "UUNC516e8pUw"
      },
      "outputs": [],
      "source": [
        "from moviepy.editor import *\n",
        "import os\n",
        "\n",
        "def cut_vid(filename,yt_name,start_min,start_sec,end_min,end_sec):\n",
        "  clip = VideoFileClip(os.path.join(yt_path,yt_name+'.mp4'))\n",
        "  clip1 = clip.subclip((start_min,start_sec),(end_min,end_sec))\n",
        "  clip1.write_videofile(os.path.join('/content/NLP_dataset',filename+'.mp4'),codec='libx264')"
      ]
    },
    {
      "cell_type": "code",
      "execution_count": null,
      "metadata": {
        "id": "vsi9roJr8rpZ",
        "colab": {
          "base_uri": "https://localhost:8080/"
        },
        "outputId": "f7afdccc-9274-4140-b6a3-1c3bd8e7a41a"
      },
      "outputs": [
        {
          "output_type": "stream",
          "name": "stdout",
          "text": [
            "mkdir: cannot create directory ‘NLP_dataset’: File exists\n",
            "mkdir: cannot create directory ‘yt’: File exists\n"
          ]
        }
      ],
      "source": [
        "!mkdir NLP_dataset\n",
        "!mkdir yt"
      ]
    },
    {
      "cell_type": "code",
      "execution_count": null,
      "metadata": {
        "id": "kB2-TeRL8xMi"
      },
      "outputs": [],
      "source": [
        "root_path = '/content/NLP_dataset'\n",
        "yt_path = '/content/yt'"
      ]
    },
    {
      "cell_type": "code",
      "execution_count": null,
      "metadata": {
        "id": "bDf8GnWn8y1F"
      },
      "outputs": [],
      "source": [
        "import pandas as pd"
      ]
    },
    {
      "cell_type": "code",
      "execution_count": null,
      "metadata": {
        "id": "fo4eTG6V81oK"
      },
      "outputs": [],
      "source": [
        "NLP_videos = pd.read_csv('/content/drive/MyDrive/NLP_videos.csv')"
      ]
    },
    {
      "cell_type": "code",
      "execution_count": null,
      "metadata": {
        "id": "7EhQkd3u8_fi"
      },
      "outputs": [],
      "source": [
        "import pandas as pd\n",
        "from IPython.display import HTML\n",
        "from base64 import b64encode"
      ]
    },
    {
      "cell_type": "code",
      "execution_count": null,
      "metadata": {
        "colab": {
          "base_uri": "https://localhost:8080/",
          "height": 206
        },
        "id": "AhW7o6yZ9F1t",
        "outputId": "0a6eb0eb-187e-405e-f165-744f3a45685b"
      },
      "outputs": [
        {
          "output_type": "execute_result",
          "data": {
            "text/plain": [
              "   Name yt_name                          Link  start_min  start_sec  end_min  \\\n",
              "0   she     she  https://youtu.be/BXw0xmFB8pQ          0          0        0   \n",
              "1   eat     eat  https://youtu.be/d4nkMcBvUZM          0          0        0   \n",
              "2  time    time  https://youtu.be/4K-4FU5l7cY          0          0        0   \n",
              "3   day     day  https://youtu.be/11derBixy2I          0          0        0   \n",
              "4   her     her  https://youtu.be/qBNL8tfKk_8          0          0        0   \n",
              "\n",
              "   end_sec  \n",
              "0        3  \n",
              "1        3  \n",
              "2        3  \n",
              "3        2  \n",
              "4        2  "
            ],
            "text/html": [
              "\n",
              "  <div id=\"df-e05db80c-ac5e-465a-b27c-7dfbbf7860e8\" class=\"colab-df-container\">\n",
              "    <div>\n",
              "<style scoped>\n",
              "    .dataframe tbody tr th:only-of-type {\n",
              "        vertical-align: middle;\n",
              "    }\n",
              "\n",
              "    .dataframe tbody tr th {\n",
              "        vertical-align: top;\n",
              "    }\n",
              "\n",
              "    .dataframe thead th {\n",
              "        text-align: right;\n",
              "    }\n",
              "</style>\n",
              "<table border=\"1\" class=\"dataframe\">\n",
              "  <thead>\n",
              "    <tr style=\"text-align: right;\">\n",
              "      <th></th>\n",
              "      <th>Name</th>\n",
              "      <th>yt_name</th>\n",
              "      <th>Link</th>\n",
              "      <th>start_min</th>\n",
              "      <th>start_sec</th>\n",
              "      <th>end_min</th>\n",
              "      <th>end_sec</th>\n",
              "    </tr>\n",
              "  </thead>\n",
              "  <tbody>\n",
              "    <tr>\n",
              "      <th>0</th>\n",
              "      <td>she</td>\n",
              "      <td>she</td>\n",
              "      <td>https://youtu.be/BXw0xmFB8pQ</td>\n",
              "      <td>0</td>\n",
              "      <td>0</td>\n",
              "      <td>0</td>\n",
              "      <td>3</td>\n",
              "    </tr>\n",
              "    <tr>\n",
              "      <th>1</th>\n",
              "      <td>eat</td>\n",
              "      <td>eat</td>\n",
              "      <td>https://youtu.be/d4nkMcBvUZM</td>\n",
              "      <td>0</td>\n",
              "      <td>0</td>\n",
              "      <td>0</td>\n",
              "      <td>3</td>\n",
              "    </tr>\n",
              "    <tr>\n",
              "      <th>2</th>\n",
              "      <td>time</td>\n",
              "      <td>time</td>\n",
              "      <td>https://youtu.be/4K-4FU5l7cY</td>\n",
              "      <td>0</td>\n",
              "      <td>0</td>\n",
              "      <td>0</td>\n",
              "      <td>3</td>\n",
              "    </tr>\n",
              "    <tr>\n",
              "      <th>3</th>\n",
              "      <td>day</td>\n",
              "      <td>day</td>\n",
              "      <td>https://youtu.be/11derBixy2I</td>\n",
              "      <td>0</td>\n",
              "      <td>0</td>\n",
              "      <td>0</td>\n",
              "      <td>2</td>\n",
              "    </tr>\n",
              "    <tr>\n",
              "      <th>4</th>\n",
              "      <td>her</td>\n",
              "      <td>her</td>\n",
              "      <td>https://youtu.be/qBNL8tfKk_8</td>\n",
              "      <td>0</td>\n",
              "      <td>0</td>\n",
              "      <td>0</td>\n",
              "      <td>2</td>\n",
              "    </tr>\n",
              "  </tbody>\n",
              "</table>\n",
              "</div>\n",
              "    <div class=\"colab-df-buttons\">\n",
              "\n",
              "  <div class=\"colab-df-container\">\n",
              "    <button class=\"colab-df-convert\" onclick=\"convertToInteractive('df-e05db80c-ac5e-465a-b27c-7dfbbf7860e8')\"\n",
              "            title=\"Convert this dataframe to an interactive table.\"\n",
              "            style=\"display:none;\">\n",
              "\n",
              "  <svg xmlns=\"http://www.w3.org/2000/svg\" height=\"24px\" viewBox=\"0 -960 960 960\">\n",
              "    <path d=\"M120-120v-720h720v720H120Zm60-500h600v-160H180v160Zm220 220h160v-160H400v160Zm0 220h160v-160H400v160ZM180-400h160v-160H180v160Zm440 0h160v-160H620v160ZM180-180h160v-160H180v160Zm440 0h160v-160H620v160Z\"/>\n",
              "  </svg>\n",
              "    </button>\n",
              "\n",
              "  <style>\n",
              "    .colab-df-container {\n",
              "      display:flex;\n",
              "      gap: 12px;\n",
              "    }\n",
              "\n",
              "    .colab-df-convert {\n",
              "      background-color: #E8F0FE;\n",
              "      border: none;\n",
              "      border-radius: 50%;\n",
              "      cursor: pointer;\n",
              "      display: none;\n",
              "      fill: #1967D2;\n",
              "      height: 32px;\n",
              "      padding: 0 0 0 0;\n",
              "      width: 32px;\n",
              "    }\n",
              "\n",
              "    .colab-df-convert:hover {\n",
              "      background-color: #E2EBFA;\n",
              "      box-shadow: 0px 1px 2px rgba(60, 64, 67, 0.3), 0px 1px 3px 1px rgba(60, 64, 67, 0.15);\n",
              "      fill: #174EA6;\n",
              "    }\n",
              "\n",
              "    .colab-df-buttons div {\n",
              "      margin-bottom: 4px;\n",
              "    }\n",
              "\n",
              "    [theme=dark] .colab-df-convert {\n",
              "      background-color: #3B4455;\n",
              "      fill: #D2E3FC;\n",
              "    }\n",
              "\n",
              "    [theme=dark] .colab-df-convert:hover {\n",
              "      background-color: #434B5C;\n",
              "      box-shadow: 0px 1px 3px 1px rgba(0, 0, 0, 0.15);\n",
              "      filter: drop-shadow(0px 1px 2px rgba(0, 0, 0, 0.3));\n",
              "      fill: #FFFFFF;\n",
              "    }\n",
              "  </style>\n",
              "\n",
              "    <script>\n",
              "      const buttonEl =\n",
              "        document.querySelector('#df-e05db80c-ac5e-465a-b27c-7dfbbf7860e8 button.colab-df-convert');\n",
              "      buttonEl.style.display =\n",
              "        google.colab.kernel.accessAllowed ? 'block' : 'none';\n",
              "\n",
              "      async function convertToInteractive(key) {\n",
              "        const element = document.querySelector('#df-e05db80c-ac5e-465a-b27c-7dfbbf7860e8');\n",
              "        const dataTable =\n",
              "          await google.colab.kernel.invokeFunction('convertToInteractive',\n",
              "                                                    [key], {});\n",
              "        if (!dataTable) return;\n",
              "\n",
              "        const docLinkHtml = 'Like what you see? Visit the ' +\n",
              "          '<a target=\"_blank\" href=https://colab.research.google.com/notebooks/data_table.ipynb>data table notebook</a>'\n",
              "          + ' to learn more about interactive tables.';\n",
              "        element.innerHTML = '';\n",
              "        dataTable['output_type'] = 'display_data';\n",
              "        await google.colab.output.renderOutput(dataTable, element);\n",
              "        const docLink = document.createElement('div');\n",
              "        docLink.innerHTML = docLinkHtml;\n",
              "        element.appendChild(docLink);\n",
              "      }\n",
              "    </script>\n",
              "  </div>\n",
              "\n",
              "\n",
              "<div id=\"df-caca5694-7531-40e0-b57c-75a399ee10b5\">\n",
              "  <button class=\"colab-df-quickchart\" onclick=\"quickchart('df-caca5694-7531-40e0-b57c-75a399ee10b5')\"\n",
              "            title=\"Suggest charts\"\n",
              "            style=\"display:none;\">\n",
              "\n",
              "<svg xmlns=\"http://www.w3.org/2000/svg\" height=\"24px\"viewBox=\"0 0 24 24\"\n",
              "     width=\"24px\">\n",
              "    <g>\n",
              "        <path d=\"M19 3H5c-1.1 0-2 .9-2 2v14c0 1.1.9 2 2 2h14c1.1 0 2-.9 2-2V5c0-1.1-.9-2-2-2zM9 17H7v-7h2v7zm4 0h-2V7h2v10zm4 0h-2v-4h2v4z\"/>\n",
              "    </g>\n",
              "</svg>\n",
              "  </button>\n",
              "\n",
              "<style>\n",
              "  .colab-df-quickchart {\n",
              "      --bg-color: #E8F0FE;\n",
              "      --fill-color: #1967D2;\n",
              "      --hover-bg-color: #E2EBFA;\n",
              "      --hover-fill-color: #174EA6;\n",
              "      --disabled-fill-color: #AAA;\n",
              "      --disabled-bg-color: #DDD;\n",
              "  }\n",
              "\n",
              "  [theme=dark] .colab-df-quickchart {\n",
              "      --bg-color: #3B4455;\n",
              "      --fill-color: #D2E3FC;\n",
              "      --hover-bg-color: #434B5C;\n",
              "      --hover-fill-color: #FFFFFF;\n",
              "      --disabled-bg-color: #3B4455;\n",
              "      --disabled-fill-color: #666;\n",
              "  }\n",
              "\n",
              "  .colab-df-quickchart {\n",
              "    background-color: var(--bg-color);\n",
              "    border: none;\n",
              "    border-radius: 50%;\n",
              "    cursor: pointer;\n",
              "    display: none;\n",
              "    fill: var(--fill-color);\n",
              "    height: 32px;\n",
              "    padding: 0;\n",
              "    width: 32px;\n",
              "  }\n",
              "\n",
              "  .colab-df-quickchart:hover {\n",
              "    background-color: var(--hover-bg-color);\n",
              "    box-shadow: 0 1px 2px rgba(60, 64, 67, 0.3), 0 1px 3px 1px rgba(60, 64, 67, 0.15);\n",
              "    fill: var(--button-hover-fill-color);\n",
              "  }\n",
              "\n",
              "  .colab-df-quickchart-complete:disabled,\n",
              "  .colab-df-quickchart-complete:disabled:hover {\n",
              "    background-color: var(--disabled-bg-color);\n",
              "    fill: var(--disabled-fill-color);\n",
              "    box-shadow: none;\n",
              "  }\n",
              "\n",
              "  .colab-df-spinner {\n",
              "    border: 2px solid var(--fill-color);\n",
              "    border-color: transparent;\n",
              "    border-bottom-color: var(--fill-color);\n",
              "    animation:\n",
              "      spin 1s steps(1) infinite;\n",
              "  }\n",
              "\n",
              "  @keyframes spin {\n",
              "    0% {\n",
              "      border-color: transparent;\n",
              "      border-bottom-color: var(--fill-color);\n",
              "      border-left-color: var(--fill-color);\n",
              "    }\n",
              "    20% {\n",
              "      border-color: transparent;\n",
              "      border-left-color: var(--fill-color);\n",
              "      border-top-color: var(--fill-color);\n",
              "    }\n",
              "    30% {\n",
              "      border-color: transparent;\n",
              "      border-left-color: var(--fill-color);\n",
              "      border-top-color: var(--fill-color);\n",
              "      border-right-color: var(--fill-color);\n",
              "    }\n",
              "    40% {\n",
              "      border-color: transparent;\n",
              "      border-right-color: var(--fill-color);\n",
              "      border-top-color: var(--fill-color);\n",
              "    }\n",
              "    60% {\n",
              "      border-color: transparent;\n",
              "      border-right-color: var(--fill-color);\n",
              "    }\n",
              "    80% {\n",
              "      border-color: transparent;\n",
              "      border-right-color: var(--fill-color);\n",
              "      border-bottom-color: var(--fill-color);\n",
              "    }\n",
              "    90% {\n",
              "      border-color: transparent;\n",
              "      border-bottom-color: var(--fill-color);\n",
              "    }\n",
              "  }\n",
              "</style>\n",
              "\n",
              "  <script>\n",
              "    async function quickchart(key) {\n",
              "      const quickchartButtonEl =\n",
              "        document.querySelector('#' + key + ' button');\n",
              "      quickchartButtonEl.disabled = true;  // To prevent multiple clicks.\n",
              "      quickchartButtonEl.classList.add('colab-df-spinner');\n",
              "      try {\n",
              "        const charts = await google.colab.kernel.invokeFunction(\n",
              "            'suggestCharts', [key], {});\n",
              "      } catch (error) {\n",
              "        console.error('Error during call to suggestCharts:', error);\n",
              "      }\n",
              "      quickchartButtonEl.classList.remove('colab-df-spinner');\n",
              "      quickchartButtonEl.classList.add('colab-df-quickchart-complete');\n",
              "    }\n",
              "    (() => {\n",
              "      let quickchartButtonEl =\n",
              "        document.querySelector('#df-caca5694-7531-40e0-b57c-75a399ee10b5 button');\n",
              "      quickchartButtonEl.style.display =\n",
              "        google.colab.kernel.accessAllowed ? 'block' : 'none';\n",
              "    })();\n",
              "  </script>\n",
              "</div>\n",
              "\n",
              "    </div>\n",
              "  </div>\n"
            ],
            "application/vnd.google.colaboratory.intrinsic+json": {
              "type": "dataframe",
              "variable_name": "NLP_videos",
              "summary": "{\n  \"name\": \"NLP_videos\",\n  \"rows\": 253,\n  \"fields\": [\n    {\n      \"column\": \"Name\",\n      \"properties\": {\n        \"dtype\": \"string\",\n        \"num_unique_values\": 253,\n        \"samples\": [\n          \"eight\",\n          \"mother\",\n          \"leave\"\n        ],\n        \"semantic_type\": \"\",\n        \"description\": \"\"\n      }\n    },\n    {\n      \"column\": \"yt_name\",\n      \"properties\": {\n        \"dtype\": \"string\",\n        \"num_unique_values\": 202,\n        \"samples\": [\n          \"there\",\n          \"table tennis\",\n          \"train\"\n        ],\n        \"semantic_type\": \"\",\n        \"description\": \"\"\n      }\n    },\n    {\n      \"column\": \"Link\",\n      \"properties\": {\n        \"dtype\": \"string\",\n        \"num_unique_values\": 202,\n        \"samples\": [\n          \"https://youtu.be/7VB_sLH5j4Q\",\n          \"https://youtu.be/RIo6nyBv2oY\",\n          \"https://youtu.be/6ZaYY0vo6pk\"\n        ],\n        \"semantic_type\": \"\",\n        \"description\": \"\"\n      }\n    },\n    {\n      \"column\": \"start_min\",\n      \"properties\": {\n        \"dtype\": \"number\",\n        \"std\": 0,\n        \"min\": 0,\n        \"max\": 1,\n        \"num_unique_values\": 2,\n        \"samples\": [\n          1,\n          0\n        ],\n        \"semantic_type\": \"\",\n        \"description\": \"\"\n      }\n    },\n    {\n      \"column\": \"start_sec\",\n      \"properties\": {\n        \"dtype\": \"number\",\n        \"std\": 11,\n        \"min\": 0,\n        \"max\": 58,\n        \"num_unique_values\": 34,\n        \"samples\": [\n          46,\n          58\n        ],\n        \"semantic_type\": \"\",\n        \"description\": \"\"\n      }\n    },\n    {\n      \"column\": \"end_min\",\n      \"properties\": {\n        \"dtype\": \"number\",\n        \"std\": 0,\n        \"min\": 0,\n        \"max\": 1,\n        \"num_unique_values\": 2,\n        \"samples\": [\n          1,\n          0\n        ],\n        \"semantic_type\": \"\",\n        \"description\": \"\"\n      }\n    },\n    {\n      \"column\": \"end_sec\",\n      \"properties\": {\n        \"dtype\": \"number\",\n        \"std\": 11,\n        \"min\": 1,\n        \"max\": 59,\n        \"num_unique_values\": 31,\n        \"samples\": [\n          25,\n          45\n        ],\n        \"semantic_type\": \"\",\n        \"description\": \"\"\n      }\n    }\n  ]\n}"
            }
          },
          "metadata": {},
          "execution_count": 16
        }
      ],
      "source": [
        "NLP_videos = pd.read_csv('/content/drive/MyDrive/NLP_videos.csv')\n",
        "NLP_videos.head()"
      ]
    },
    {
      "cell_type": "code",
      "execution_count": null,
      "metadata": {
        "id": "pmebT7D79PGy"
      },
      "outputs": [],
      "source": [
        "def text_to_vid(input_text):\n",
        "  NLP_videos = pd.read_csv('/content/drive/MyDrive/NLP_videos.csv')\n",
        "  root_path = '/content/NLP_dataset'\n",
        "  yt_path = '/content/yt'\n",
        "  videos = []\n",
        "  clips=[]\n",
        "  sentence = text_to_isl(input_text)\n",
        "  print(sentence)\n",
        "  words = sentence.split()\n",
        "  for i in words:\n",
        "    if (NLP_videos['Name'].eq(i)).any():\n",
        "      idx = NLP_videos.index[NLP_videos['Name'] == i].tolist()\n",
        "      get_yt(NLP_videos['Link'].iloc[idx[0]],yt_path)\n",
        "      cut_vid(i,NLP_videos['yt_name'].iloc[idx[0]],NLP_videos['start_min'].iloc[idx[0]],NLP_videos['start_sec'].iloc[idx[0]],NLP_videos['end_min'].iloc[idx[0]],NLP_videos['end_sec'].iloc[idx[0]])\n",
        "      videos.append(os.path.join(root_path,i+'.mp4'))\n",
        "    else:\n",
        "      for letter in i:\n",
        "        idx = NLP_videos.index[NLP_videos['Name'] == letter].tolist()\n",
        "        #print(letter,idx)\n",
        "        get_yt(NLP_videos['Link'].iloc[idx[0]],yt_path)\n",
        "        cut_vid(letter,NLP_videos['yt_name'].iloc[idx[0]],NLP_videos['start_min'].iloc[idx[0]],NLP_videos['start_sec'].iloc[idx[0]],NLP_videos['end_min'].iloc[idx[0]],NLP_videos['end_sec'].iloc[idx[0]])\n",
        "        videos.append(os.path.join(root_path,letter+'.mp4'))\n",
        "  for i in videos:\n",
        "    clip = VideoFileClip(i)\n",
        "    clips.append(clip)\n",
        "\n",
        "  final = concatenate_videoclips(clips, method=\"compose\")\n",
        "  final.write_videofile(\"merged.mp4\")"
      ]
    },
    {
      "cell_type": "markdown",
      "metadata": {
        "id": "8indDrt09RYB"
      },
      "source": [
        "SPEECH TO TEXT"
      ]
    },
    {
      "cell_type": "code",
      "source": [
        "!pip install pipwin\n",
        "!pipwin install pyaudio\n"
      ],
      "metadata": {
        "colab": {
          "base_uri": "https://localhost:8080/"
        },
        "id": "YIUrq9nXv6Jo",
        "outputId": "f9aad992-342d-490e-fa72-cc9aedd9ab11"
      },
      "execution_count": null,
      "outputs": [
        {
          "output_type": "stream",
          "name": "stdout",
          "text": [
            "Requirement already satisfied: pipwin in /usr/local/lib/python3.10/dist-packages (0.5.2)\n",
            "Requirement already satisfied: docopt in /usr/local/lib/python3.10/dist-packages (from pipwin) (0.6.2)\n",
            "Requirement already satisfied: requests in /usr/local/lib/python3.10/dist-packages (from pipwin) (2.32.3)\n",
            "Requirement already satisfied: pyprind in /usr/local/lib/python3.10/dist-packages (from pipwin) (2.11.3)\n",
            "Requirement already satisfied: six in /usr/local/lib/python3.10/dist-packages (from pipwin) (1.17.0)\n",
            "Requirement already satisfied: beautifulsoup4>=4.9.0 in /usr/local/lib/python3.10/dist-packages (from pipwin) (4.12.3)\n",
            "Requirement already satisfied: js2py in /usr/local/lib/python3.10/dist-packages (from pipwin) (0.74)\n",
            "Requirement already satisfied: packaging in /usr/local/lib/python3.10/dist-packages (from pipwin) (24.2)\n",
            "Requirement already satisfied: pySmartDL>=1.3.1 in /usr/local/lib/python3.10/dist-packages (from pipwin) (1.3.4)\n",
            "Requirement already satisfied: soupsieve>1.2 in /usr/local/lib/python3.10/dist-packages (from beautifulsoup4>=4.9.0->pipwin) (2.6)\n",
            "Requirement already satisfied: tzlocal>=1.2 in /usr/local/lib/python3.10/dist-packages (from js2py->pipwin) (5.2)\n",
            "Requirement already satisfied: pyjsparser>=2.5.1 in /usr/local/lib/python3.10/dist-packages (from js2py->pipwin) (2.7.1)\n",
            "Requirement already satisfied: charset-normalizer<4,>=2 in /usr/local/lib/python3.10/dist-packages (from requests->pipwin) (3.4.0)\n",
            "Requirement already satisfied: idna<4,>=2.5 in /usr/local/lib/python3.10/dist-packages (from requests->pipwin) (3.10)\n",
            "Requirement already satisfied: urllib3<3,>=1.21.1 in /usr/local/lib/python3.10/dist-packages (from requests->pipwin) (2.2.3)\n",
            "Requirement already satisfied: certifi>=2017.4.17 in /usr/local/lib/python3.10/dist-packages (from requests->pipwin) (2024.8.30)\n",
            "/usr/local/lib/python3.10/dist-packages/pipwin/command.py:66: UserWarning: Found a non Windows system. Package installation might not work.\n",
            "  warn(\"Found a non Windows system. Package installation might not work.\")\n",
            "Building cache. Hang on . . .\n",
            "Traceback (most recent call last):\n",
            "  File \"/usr/local/bin/pipwin\", line 8, in <module>\n",
            "    sys.exit(main())\n",
            "  File \"/usr/local/lib/python3.10/dist-packages/pipwin/command.py\", line 84, in main\n",
            "    cache = pipwin.PipwinCache()\n",
            "  File \"/usr/local/lib/python3.10/dist-packages/pipwin/pipwin.py\", line 210, in __init__\n",
            "    self.data = build_cache()\n",
            "  File \"/usr/local/lib/python3.10/dist-packages/pipwin/pipwin.py\", line 103, in build_cache\n",
            "    dl_function = re.search(r\"function dl.*\\}\", soup.find(\"script\").string).group(0)\n",
            "AttributeError: 'NoneType' object has no attribute 'string'\n"
          ]
        }
      ]
    },
    {
      "cell_type": "code",
      "execution_count": null,
      "metadata": {
        "colab": {
          "base_uri": "https://localhost:8080/"
        },
        "id": "MOWf0Ab_9Qnv",
        "outputId": "ce6a3428-8b91-4c41-8cb9-820935eb8078"
      },
      "outputs": [
        {
          "output_type": "stream",
          "name": "stdout",
          "text": [
            "Requirement already satisfied: SpeechRecognition in /usr/local/lib/python3.10/dist-packages (3.12.0)\n",
            "Requirement already satisfied: typing-extensions in /usr/local/lib/python3.10/dist-packages (from SpeechRecognition) (4.12.2)\n",
            "Requirement already satisfied: ffmpeg-python in /usr/local/lib/python3.10/dist-packages (0.2.0)\n",
            "Requirement already satisfied: future in /usr/local/lib/python3.10/dist-packages (from ffmpeg-python) (1.0.0)\n"
          ]
        }
      ],
      "source": [
        "!pip install SpeechRecognition\n",
        "!pip install ffmpeg-python"
      ]
    },
    {
      "cell_type": "code",
      "execution_count": null,
      "metadata": {
        "colab": {
          "base_uri": "https://localhost:8080/"
        },
        "id": "pG_4cNVvB2O9",
        "outputId": "db9c35dd-4620-4623-917e-1b2a7f2f7307"
      },
      "outputs": [
        {
          "output_type": "stream",
          "name": "stdout",
          "text": [
            "Requirement already satisfied: yt-dlp in /usr/local/lib/python3.10/dist-packages (2024.12.13)\n"
          ]
        }
      ],
      "source": [
        "# Ensure yt-dlp is installed\n",
        "!pip install yt-dlp --upgrade\n",
        "\n",
        "import speech_recognition as sr\n",
        "from yt_dlp import YoutubeDL\n",
        "\n",
        "def get_yt(link, path):\n",
        "    # yt-dlp options for downloading\n",
        "    ydl_opts = {\n",
        "        'outtmpl': f'{path}/%(title)s.%(ext)s',  # Save the file in the specified path with the video title\n",
        "        'format': 'bestvideo+bestaudio/best',   # Download best video and audio quality\n",
        "        'merge_output_format': 'mp4',           # Merge video and audio to mp4 if necessary\n",
        "    }\n",
        "\n",
        "    with YoutubeDL(ydl_opts) as ydl:\n",
        "        ydl.download([link])\n"
      ]
    },
    {
      "cell_type": "code",
      "execution_count": null,
      "metadata": {
        "id": "tRePc8fc9V5c"
      },
      "outputs": [],
      "source": [
        "\n",
        "import speech_recognition as sr\n",
        "r = sr.Recognizer()"
      ]
    },
    {
      "cell_type": "code",
      "execution_count": null,
      "metadata": {
        "id": "DbJ3YVwe9fm8"
      },
      "outputs": [],
      "source": [
        "AUDIO_FILE = (\"/content/NLP_test_coffee.wav\")\n",
        "\n",
        "with sr.AudioFile(AUDIO_FILE) as source:\n",
        "    #reads the audio file. Here we use record instead of\n",
        "    #listen\n",
        "    audio = r.record(source)\n",
        "speech=r.recognize_google(audio)"
      ]
    },
    {
      "cell_type": "code",
      "execution_count": null,
      "metadata": {
        "colab": {
          "base_uri": "https://localhost:8080/"
        },
        "id": "neNGdXC4AIY0",
        "outputId": "76f678da-41b4-40f5-a8ce-71cc87664b45"
      },
      "outputs": [
        {
          "output_type": "stream",
          "name": "stdout",
          "text": [
            "I like drinking coffee\n"
          ]
        }
      ],
      "source": [
        "print(speech)"
      ]
    },
    {
      "cell_type": "code",
      "execution_count": null,
      "metadata": {
        "colab": {
          "base_uri": "https://localhost:8080/"
        },
        "id": "TT1MirkrAKGT",
        "outputId": "050c8040-07e7-4c91-ca9a-88d03ec96035"
      },
      "outputs": [
        {
          "output_type": "stream",
          "name": "stdout",
          "text": [
            "i like drinking coffee \n",
            "[youtube] Extracting URL: https://youtu.be/f7XWdoOSSNw\n",
            "[youtube] f7XWdoOSSNw: Downloading webpage\n",
            "[youtube] f7XWdoOSSNw: Downloading ios player API JSON\n",
            "[youtube] f7XWdoOSSNw: Downloading mweb player API JSON\n",
            "[youtube] f7XWdoOSSNw: Downloading player 03dbdfab\n",
            "[youtube] f7XWdoOSSNw: Downloading m3u8 information\n",
            "[info] f7XWdoOSSNw: Downloading 1 format(s): 135+140\n",
            "[download] Destination: /content/yt/me.f135.mp4\n",
            "[download] 100% of  158.97KiB in 00:00:01 at 106.65KiB/s \n",
            "[download] Destination: /content/yt/me.f140.m4a\n",
            "[download] 100% of   88.77KiB in 00:00:00 at 212.89KiB/s \n",
            "[Merger] Merging formats into \"/content/yt/me.mp4\"\n",
            "Deleting original file /content/yt/me.f140.m4a (pass -k to keep)\n",
            "Deleting original file /content/yt/me.f135.mp4 (pass -k to keep)\n",
            "Moviepy - Building video /content/NLP_dataset/i.mp4.\n",
            "MoviePy - Writing audio in iTEMP_MPY_wvf_snd.mp3\n"
          ]
        },
        {
          "output_type": "stream",
          "name": "stderr",
          "text": []
        },
        {
          "output_type": "stream",
          "name": "stdout",
          "text": [
            "MoviePy - Done.\n",
            "Moviepy - Writing video /content/NLP_dataset/i.mp4\n",
            "\n"
          ]
        },
        {
          "output_type": "stream",
          "name": "stderr",
          "text": []
        },
        {
          "output_type": "stream",
          "name": "stdout",
          "text": [
            "Moviepy - Done !\n",
            "Moviepy - video ready /content/NLP_dataset/i.mp4\n",
            "[youtube] Extracting URL: https://youtu.be/FCMh8YKvD-8\n",
            "[youtube] FCMh8YKvD-8: Downloading webpage\n",
            "[youtube] FCMh8YKvD-8: Downloading ios player API JSON\n",
            "[youtube] FCMh8YKvD-8: Downloading mweb player API JSON\n",
            "[youtube] FCMh8YKvD-8: Downloading m3u8 information\n",
            "[info] FCMh8YKvD-8: Downloading 1 format(s): 135+140\n",
            "[download] Destination: /content/yt/like.f135.mp4\n",
            "[download] 100% of  228.89KiB in 00:00:00 at 388.81KiB/s \n",
            "[download] Destination: /content/yt/like.f140.m4a\n",
            "[download] 100% of  101.61KiB in 00:00:00 at 416.78KiB/s \n",
            "[Merger] Merging formats into \"/content/yt/like.mp4\"\n",
            "Deleting original file /content/yt/like.f140.m4a (pass -k to keep)\n",
            "Deleting original file /content/yt/like.f135.mp4 (pass -k to keep)\n",
            "Moviepy - Building video /content/NLP_dataset/like.mp4.\n",
            "MoviePy - Writing audio in likeTEMP_MPY_wvf_snd.mp3\n"
          ]
        },
        {
          "output_type": "stream",
          "name": "stderr",
          "text": []
        },
        {
          "output_type": "stream",
          "name": "stdout",
          "text": [
            "MoviePy - Done.\n",
            "Moviepy - Writing video /content/NLP_dataset/like.mp4\n",
            "\n"
          ]
        },
        {
          "output_type": "stream",
          "name": "stderr",
          "text": []
        },
        {
          "output_type": "stream",
          "name": "stdout",
          "text": [
            "Moviepy - Done !\n",
            "Moviepy - video ready /content/NLP_dataset/like.mp4\n",
            "[youtube] Extracting URL: https://youtu.be/VlqddxqAYQo\n",
            "[youtube] VlqddxqAYQo: Downloading webpage\n",
            "[youtube] VlqddxqAYQo: Downloading ios player API JSON\n",
            "[youtube] VlqddxqAYQo: Downloading mweb player API JSON\n",
            "[youtube] VlqddxqAYQo: Downloading player 03dbdfab\n",
            "[youtube] VlqddxqAYQo: Downloading m3u8 information\n",
            "[info] VlqddxqAYQo: Downloading 1 format(s): 135+140\n",
            "[download] Destination: /content/yt/double handed.f135.mp4\n",
            "[download] 100% of    4.52MiB in 00:00:01 at 3.09MiB/s   \n",
            "[download] Destination: /content/yt/double handed.f140.m4a\n",
            "[download] 100% of    1.24MiB in 00:00:00 at 4.65MiB/s   \n",
            "[Merger] Merging formats into \"/content/yt/double handed.mp4\"\n",
            "Deleting original file /content/yt/double handed.f135.mp4 (pass -k to keep)\n",
            "Deleting original file /content/yt/double handed.f140.m4a (pass -k to keep)\n",
            "Moviepy - Building video /content/NLP_dataset/d.mp4.\n",
            "MoviePy - Writing audio in dTEMP_MPY_wvf_snd.mp3\n"
          ]
        },
        {
          "output_type": "stream",
          "name": "stderr",
          "text": []
        },
        {
          "output_type": "stream",
          "name": "stdout",
          "text": [
            "MoviePy - Done.\n",
            "Moviepy - Writing video /content/NLP_dataset/d.mp4\n",
            "\n"
          ]
        },
        {
          "output_type": "stream",
          "name": "stderr",
          "text": []
        },
        {
          "output_type": "stream",
          "name": "stdout",
          "text": [
            "Moviepy - Done !\n",
            "Moviepy - video ready /content/NLP_dataset/d.mp4\n",
            "[youtube] Extracting URL: https://youtu.be/VlqddxqAYQo\n",
            "[youtube] VlqddxqAYQo: Downloading webpage\n",
            "[youtube] VlqddxqAYQo: Downloading ios player API JSON\n",
            "[youtube] VlqddxqAYQo: Downloading mweb player API JSON\n",
            "[youtube] VlqddxqAYQo: Downloading m3u8 information\n",
            "[info] VlqddxqAYQo: Downloading 1 format(s): 135+140\n",
            "[download] /content/yt/double handed.mp4 has already been downloaded\n",
            "Moviepy - Building video /content/NLP_dataset/r.mp4.\n",
            "MoviePy - Writing audio in rTEMP_MPY_wvf_snd.mp3\n"
          ]
        },
        {
          "output_type": "stream",
          "name": "stderr",
          "text": []
        },
        {
          "output_type": "stream",
          "name": "stdout",
          "text": [
            "MoviePy - Done.\n",
            "Moviepy - Writing video /content/NLP_dataset/r.mp4\n",
            "\n"
          ]
        },
        {
          "output_type": "stream",
          "name": "stderr",
          "text": []
        },
        {
          "output_type": "stream",
          "name": "stdout",
          "text": [
            "Moviepy - Done !\n",
            "Moviepy - video ready /content/NLP_dataset/r.mp4\n",
            "[youtube] Extracting URL: https://youtu.be/f7XWdoOSSNw\n",
            "[youtube] f7XWdoOSSNw: Downloading webpage\n",
            "[youtube] f7XWdoOSSNw: Downloading ios player API JSON\n",
            "[youtube] f7XWdoOSSNw: Downloading mweb player API JSON\n",
            "[youtube] f7XWdoOSSNw: Downloading m3u8 information\n",
            "[info] f7XWdoOSSNw: Downloading 1 format(s): 135+140\n",
            "[download] /content/yt/me.mp4 has already been downloaded\n",
            "Moviepy - Building video /content/NLP_dataset/i.mp4.\n",
            "MoviePy - Writing audio in iTEMP_MPY_wvf_snd.mp3\n"
          ]
        },
        {
          "output_type": "stream",
          "name": "stderr",
          "text": []
        },
        {
          "output_type": "stream",
          "name": "stdout",
          "text": [
            "MoviePy - Done.\n",
            "Moviepy - Writing video /content/NLP_dataset/i.mp4\n",
            "\n"
          ]
        },
        {
          "output_type": "stream",
          "name": "stderr",
          "text": []
        },
        {
          "output_type": "stream",
          "name": "stdout",
          "text": [
            "Moviepy - Done !\n",
            "Moviepy - video ready /content/NLP_dataset/i.mp4\n",
            "[youtube] Extracting URL: https://youtu.be/VlqddxqAYQo\n",
            "[youtube] VlqddxqAYQo: Downloading webpage\n",
            "[youtube] VlqddxqAYQo: Downloading ios player API JSON\n",
            "[youtube] VlqddxqAYQo: Downloading mweb player API JSON\n",
            "[youtube] VlqddxqAYQo: Downloading m3u8 information\n",
            "[info] VlqddxqAYQo: Downloading 1 format(s): 135+140\n",
            "[download] /content/yt/double handed.mp4 has already been downloaded\n",
            "Moviepy - Building video /content/NLP_dataset/n.mp4.\n",
            "MoviePy - Writing audio in nTEMP_MPY_wvf_snd.mp3\n"
          ]
        },
        {
          "output_type": "stream",
          "name": "stderr",
          "text": []
        },
        {
          "output_type": "stream",
          "name": "stdout",
          "text": [
            "MoviePy - Done.\n",
            "Moviepy - Writing video /content/NLP_dataset/n.mp4\n",
            "\n"
          ]
        },
        {
          "output_type": "stream",
          "name": "stderr",
          "text": []
        },
        {
          "output_type": "stream",
          "name": "stdout",
          "text": [
            "Moviepy - Done !\n",
            "Moviepy - video ready /content/NLP_dataset/n.mp4\n",
            "[youtube] Extracting URL: https://youtu.be/VlqddxqAYQo\n",
            "[youtube] VlqddxqAYQo: Downloading webpage\n",
            "[youtube] VlqddxqAYQo: Downloading ios player API JSON\n",
            "[youtube] VlqddxqAYQo: Downloading mweb player API JSON\n",
            "[youtube] VlqddxqAYQo: Downloading m3u8 information\n",
            "[info] VlqddxqAYQo: Downloading 1 format(s): 135+140\n",
            "[download] /content/yt/double handed.mp4 has already been downloaded\n",
            "Moviepy - Building video /content/NLP_dataset/k.mp4.\n",
            "MoviePy - Writing audio in kTEMP_MPY_wvf_snd.mp3\n"
          ]
        },
        {
          "output_type": "stream",
          "name": "stderr",
          "text": []
        },
        {
          "output_type": "stream",
          "name": "stdout",
          "text": [
            "MoviePy - Done.\n",
            "Moviepy - Writing video /content/NLP_dataset/k.mp4\n",
            "\n"
          ]
        },
        {
          "output_type": "stream",
          "name": "stderr",
          "text": []
        },
        {
          "output_type": "stream",
          "name": "stdout",
          "text": [
            "Moviepy - Done !\n",
            "Moviepy - video ready /content/NLP_dataset/k.mp4\n",
            "[youtube] Extracting URL: https://youtu.be/f7XWdoOSSNw\n",
            "[youtube] f7XWdoOSSNw: Downloading webpage\n",
            "[youtube] f7XWdoOSSNw: Downloading ios player API JSON\n",
            "[youtube] f7XWdoOSSNw: Downloading mweb player API JSON\n",
            "[youtube] f7XWdoOSSNw: Downloading m3u8 information\n",
            "[info] f7XWdoOSSNw: Downloading 1 format(s): 135+140\n",
            "[download] /content/yt/me.mp4 has already been downloaded\n",
            "Moviepy - Building video /content/NLP_dataset/i.mp4.\n",
            "MoviePy - Writing audio in iTEMP_MPY_wvf_snd.mp3\n"
          ]
        },
        {
          "output_type": "stream",
          "name": "stderr",
          "text": []
        },
        {
          "output_type": "stream",
          "name": "stdout",
          "text": [
            "MoviePy - Done.\n",
            "Moviepy - Writing video /content/NLP_dataset/i.mp4\n",
            "\n"
          ]
        },
        {
          "output_type": "stream",
          "name": "stderr",
          "text": []
        },
        {
          "output_type": "stream",
          "name": "stdout",
          "text": [
            "Moviepy - Done !\n",
            "Moviepy - video ready /content/NLP_dataset/i.mp4\n",
            "[youtube] Extracting URL: https://youtu.be/VlqddxqAYQo\n",
            "[youtube] VlqddxqAYQo: Downloading webpage\n",
            "[youtube] VlqddxqAYQo: Downloading ios player API JSON\n",
            "[youtube] VlqddxqAYQo: Downloading mweb player API JSON\n",
            "[youtube] VlqddxqAYQo: Downloading m3u8 information\n",
            "[info] VlqddxqAYQo: Downloading 1 format(s): 135+140\n",
            "[download] /content/yt/double handed.mp4 has already been downloaded\n",
            "Moviepy - Building video /content/NLP_dataset/n.mp4.\n",
            "MoviePy - Writing audio in nTEMP_MPY_wvf_snd.mp3\n"
          ]
        },
        {
          "output_type": "stream",
          "name": "stderr",
          "text": []
        },
        {
          "output_type": "stream",
          "name": "stdout",
          "text": [
            "MoviePy - Done.\n",
            "Moviepy - Writing video /content/NLP_dataset/n.mp4\n",
            "\n"
          ]
        },
        {
          "output_type": "stream",
          "name": "stderr",
          "text": []
        },
        {
          "output_type": "stream",
          "name": "stdout",
          "text": [
            "Moviepy - Done !\n",
            "Moviepy - video ready /content/NLP_dataset/n.mp4\n",
            "[youtube] Extracting URL: https://youtu.be/VlqddxqAYQo\n",
            "[youtube] VlqddxqAYQo: Downloading webpage\n",
            "[youtube] VlqddxqAYQo: Downloading ios player API JSON\n",
            "[youtube] VlqddxqAYQo: Downloading mweb player API JSON\n",
            "[youtube] VlqddxqAYQo: Downloading m3u8 information\n",
            "[info] VlqddxqAYQo: Downloading 1 format(s): 135+140\n",
            "[download] /content/yt/double handed.mp4 has already been downloaded\n",
            "Moviepy - Building video /content/NLP_dataset/g.mp4.\n",
            "MoviePy - Writing audio in gTEMP_MPY_wvf_snd.mp3\n"
          ]
        },
        {
          "output_type": "stream",
          "name": "stderr",
          "text": []
        },
        {
          "output_type": "stream",
          "name": "stdout",
          "text": [
            "MoviePy - Done.\n",
            "Moviepy - Writing video /content/NLP_dataset/g.mp4\n",
            "\n"
          ]
        },
        {
          "output_type": "stream",
          "name": "stderr",
          "text": []
        },
        {
          "output_type": "stream",
          "name": "stdout",
          "text": [
            "Moviepy - Done !\n",
            "Moviepy - video ready /content/NLP_dataset/g.mp4\n",
            "[youtube] Extracting URL: https://youtu.be/VlqddxqAYQo\n",
            "[youtube] VlqddxqAYQo: Downloading webpage\n",
            "[youtube] VlqddxqAYQo: Downloading ios player API JSON\n",
            "[youtube] VlqddxqAYQo: Downloading mweb player API JSON\n",
            "[youtube] VlqddxqAYQo: Downloading m3u8 information\n",
            "[info] VlqddxqAYQo: Downloading 1 format(s): 135+140\n",
            "[download] /content/yt/double handed.mp4 has already been downloaded\n",
            "Moviepy - Building video /content/NLP_dataset/c.mp4.\n",
            "MoviePy - Writing audio in cTEMP_MPY_wvf_snd.mp3\n"
          ]
        },
        {
          "output_type": "stream",
          "name": "stderr",
          "text": []
        },
        {
          "output_type": "stream",
          "name": "stdout",
          "text": [
            "MoviePy - Done.\n",
            "Moviepy - Writing video /content/NLP_dataset/c.mp4\n",
            "\n"
          ]
        },
        {
          "output_type": "stream",
          "name": "stderr",
          "text": []
        },
        {
          "output_type": "stream",
          "name": "stdout",
          "text": [
            "Moviepy - Done !\n",
            "Moviepy - video ready /content/NLP_dataset/c.mp4\n",
            "[youtube] Extracting URL: https://youtu.be/VlqddxqAYQo\n",
            "[youtube] VlqddxqAYQo: Downloading webpage\n",
            "[youtube] VlqddxqAYQo: Downloading ios player API JSON\n",
            "[youtube] VlqddxqAYQo: Downloading mweb player API JSON\n",
            "[youtube] VlqddxqAYQo: Downloading m3u8 information\n",
            "[info] VlqddxqAYQo: Downloading 1 format(s): 135+140\n",
            "[download] /content/yt/double handed.mp4 has already been downloaded\n",
            "Moviepy - Building video /content/NLP_dataset/o.mp4.\n",
            "MoviePy - Writing audio in oTEMP_MPY_wvf_snd.mp3\n"
          ]
        },
        {
          "output_type": "stream",
          "name": "stderr",
          "text": []
        },
        {
          "output_type": "stream",
          "name": "stdout",
          "text": [
            "MoviePy - Done.\n",
            "Moviepy - Writing video /content/NLP_dataset/o.mp4\n",
            "\n"
          ]
        },
        {
          "output_type": "stream",
          "name": "stderr",
          "text": []
        },
        {
          "output_type": "stream",
          "name": "stdout",
          "text": [
            "Moviepy - Done !\n",
            "Moviepy - video ready /content/NLP_dataset/o.mp4\n",
            "[youtube] Extracting URL: https://youtu.be/VlqddxqAYQo\n",
            "[youtube] VlqddxqAYQo: Downloading webpage\n",
            "[youtube] VlqddxqAYQo: Downloading ios player API JSON\n",
            "[youtube] VlqddxqAYQo: Downloading mweb player API JSON\n",
            "[youtube] VlqddxqAYQo: Downloading m3u8 information\n",
            "[info] VlqddxqAYQo: Downloading 1 format(s): 135+140\n",
            "[download] /content/yt/double handed.mp4 has already been downloaded\n",
            "Moviepy - Building video /content/NLP_dataset/f.mp4.\n",
            "MoviePy - Writing audio in fTEMP_MPY_wvf_snd.mp3\n"
          ]
        },
        {
          "output_type": "stream",
          "name": "stderr",
          "text": []
        },
        {
          "output_type": "stream",
          "name": "stdout",
          "text": [
            "MoviePy - Done.\n",
            "Moviepy - Writing video /content/NLP_dataset/f.mp4\n",
            "\n"
          ]
        },
        {
          "output_type": "stream",
          "name": "stderr",
          "text": []
        },
        {
          "output_type": "stream",
          "name": "stdout",
          "text": [
            "Moviepy - Done !\n",
            "Moviepy - video ready /content/NLP_dataset/f.mp4\n",
            "[youtube] Extracting URL: https://youtu.be/VlqddxqAYQo\n",
            "[youtube] VlqddxqAYQo: Downloading webpage\n",
            "[youtube] VlqddxqAYQo: Downloading ios player API JSON\n",
            "[youtube] VlqddxqAYQo: Downloading mweb player API JSON\n",
            "[youtube] VlqddxqAYQo: Downloading m3u8 information\n",
            "[info] VlqddxqAYQo: Downloading 1 format(s): 135+140\n",
            "[download] /content/yt/double handed.mp4 has already been downloaded\n",
            "Moviepy - Building video /content/NLP_dataset/f.mp4.\n",
            "MoviePy - Writing audio in fTEMP_MPY_wvf_snd.mp3\n"
          ]
        },
        {
          "output_type": "stream",
          "name": "stderr",
          "text": [
            "                                                       "
          ]
        },
        {
          "output_type": "stream",
          "name": "stdout",
          "text": [
            "MoviePy - Done.\n",
            "Moviepy - Writing video /content/NLP_dataset/f.mp4\n",
            "\n"
          ]
        },
        {
          "output_type": "stream",
          "name": "stderr",
          "text": []
        },
        {
          "output_type": "stream",
          "name": "stdout",
          "text": [
            "Moviepy - Done !\n",
            "Moviepy - video ready /content/NLP_dataset/f.mp4\n",
            "[youtube] Extracting URL: https://youtu.be/VlqddxqAYQo\n",
            "[youtube] VlqddxqAYQo: Downloading webpage\n",
            "[youtube] VlqddxqAYQo: Downloading ios player API JSON\n",
            "[youtube] VlqddxqAYQo: Downloading mweb player API JSON\n",
            "[youtube] VlqddxqAYQo: Downloading m3u8 information\n",
            "[info] VlqddxqAYQo: Downloading 1 format(s): 135+140\n",
            "[download] /content/yt/double handed.mp4 has already been downloaded\n",
            "Moviepy - Building video /content/NLP_dataset/e.mp4.\n",
            "MoviePy - Writing audio in eTEMP_MPY_wvf_snd.mp3\n"
          ]
        },
        {
          "output_type": "stream",
          "name": "stderr",
          "text": []
        },
        {
          "output_type": "stream",
          "name": "stdout",
          "text": [
            "MoviePy - Done.\n",
            "Moviepy - Writing video /content/NLP_dataset/e.mp4\n",
            "\n"
          ]
        },
        {
          "output_type": "stream",
          "name": "stderr",
          "text": []
        },
        {
          "output_type": "stream",
          "name": "stdout",
          "text": [
            "Moviepy - Done !\n",
            "Moviepy - video ready /content/NLP_dataset/e.mp4\n",
            "[youtube] Extracting URL: https://youtu.be/VlqddxqAYQo\n",
            "[youtube] VlqddxqAYQo: Downloading webpage\n",
            "[youtube] VlqddxqAYQo: Downloading ios player API JSON\n",
            "[youtube] VlqddxqAYQo: Downloading mweb player API JSON\n",
            "[youtube] VlqddxqAYQo: Downloading m3u8 information\n",
            "[info] VlqddxqAYQo: Downloading 1 format(s): 135+140\n",
            "[download] /content/yt/double handed.mp4 has already been downloaded\n",
            "Moviepy - Building video /content/NLP_dataset/e.mp4.\n",
            "MoviePy - Writing audio in eTEMP_MPY_wvf_snd.mp3\n"
          ]
        },
        {
          "output_type": "stream",
          "name": "stderr",
          "text": []
        },
        {
          "output_type": "stream",
          "name": "stdout",
          "text": [
            "MoviePy - Done.\n",
            "Moviepy - Writing video /content/NLP_dataset/e.mp4\n",
            "\n"
          ]
        },
        {
          "output_type": "stream",
          "name": "stderr",
          "text": []
        },
        {
          "output_type": "stream",
          "name": "stdout",
          "text": [
            "Moviepy - Done !\n",
            "Moviepy - video ready /content/NLP_dataset/e.mp4\n",
            "Moviepy - Building video merged.mp4.\n",
            "MoviePy - Writing audio in mergedTEMP_MPY_wvf_snd.mp3\n"
          ]
        },
        {
          "output_type": "stream",
          "name": "stderr",
          "text": []
        },
        {
          "output_type": "stream",
          "name": "stdout",
          "text": [
            "MoviePy - Done.\n",
            "Moviepy - Writing video merged.mp4\n",
            "\n"
          ]
        },
        {
          "output_type": "stream",
          "name": "stderr",
          "text": [
            "t:   6%|▌         | 44/742 [00:00<00:03, 212.02it/s, now=None]WARNING:py.warnings:/usr/local/lib/python3.10/dist-packages/moviepy/video/io/ffmpeg_reader.py:123: UserWarning: Warning: in file /content/NLP_dataset/i.mp4, 921600 bytes wanted but 0 bytes read,at frame 50/52, at time 2.00/2.04 sec. Using the last valid frame instead.\n",
            "  warnings.warn(\"Warning: in file %s, \"%(self.filename)+\n",
            "\n",
            "t:  20%|██        | 149/742 [00:01<00:06, 95.94it/s, now=None]WARNING:py.warnings:/usr/local/lib/python3.10/dist-packages/moviepy/video/io/ffmpeg_reader.py:123: UserWarning: Warning: in file /content/NLP_dataset/like.mp4, 921600 bytes wanted but 0 bytes read,at frame 75/76, at time 3.00/3.03 sec. Using the last valid frame instead.\n",
            "  warnings.warn(\"Warning: in file %s, \"%(self.filename)+\n",
            "\n",
            "t:  24%|██▍       | 177/742 [00:01<00:06, 83.18it/s, now=None]WARNING:py.warnings:/usr/local/lib/python3.10/dist-packages/moviepy/video/io/ffmpeg_reader.py:123: UserWarning: Warning: in file /content/NLP_dataset/d.mp4, 921600 bytes wanted but 0 bytes read,at frame 30/32, at time 1.00/1.05 sec. Using the last valid frame instead.\n",
            "  warnings.warn(\"Warning: in file %s, \"%(self.filename)+\n",
            "\n",
            "t:  28%|██▊       | 210/742 [00:02<00:07, 74.32it/s, now=None]WARNING:py.warnings:/usr/local/lib/python3.10/dist-packages/moviepy/video/io/ffmpeg_reader.py:123: UserWarning: Warning: in file /content/NLP_dataset/r.mp4, 921600 bytes wanted but 0 bytes read,at frame 30/32, at time 1.00/1.05 sec. Using the last valid frame instead.\n",
            "  warnings.warn(\"Warning: in file %s, \"%(self.filename)+\n",
            "\n",
            "WARNING:py.warnings:/usr/local/lib/python3.10/dist-packages/moviepy/video/io/ffmpeg_reader.py:123: UserWarning: Warning: in file /content/NLP_dataset/r.mp4, 921600 bytes wanted but 0 bytes read,at frame 31/32, at time 1.03/1.05 sec. Using the last valid frame instead.\n",
            "  warnings.warn(\"Warning: in file %s, \"%(self.filename)+\n",
            "\n",
            "t:  41%|████▏     | 307/742 [00:03<00:08, 53.88it/s, now=None]WARNING:py.warnings:/usr/local/lib/python3.10/dist-packages/moviepy/video/io/ffmpeg_reader.py:123: UserWarning: Warning: in file /content/NLP_dataset/n.mp4, 921600 bytes wanted but 0 bytes read,at frame 30/32, at time 1.00/1.05 sec. Using the last valid frame instead.\n",
            "  warnings.warn(\"Warning: in file %s, \"%(self.filename)+\n",
            "\n",
            "t:  46%|████▌     | 338/742 [00:04<00:08, 50.19it/s, now=None]WARNING:py.warnings:/usr/local/lib/python3.10/dist-packages/moviepy/video/io/ffmpeg_reader.py:123: UserWarning: Warning: in file /content/NLP_dataset/k.mp4, 921600 bytes wanted but 0 bytes read,at frame 30/32, at time 1.00/1.05 sec. Using the last valid frame instead.\n",
            "  warnings.warn(\"Warning: in file %s, \"%(self.filename)+\n",
            "\n",
            "WARNING:py.warnings:/usr/local/lib/python3.10/dist-packages/moviepy/video/io/ffmpeg_reader.py:123: UserWarning: Warning: in file /content/NLP_dataset/k.mp4, 921600 bytes wanted but 0 bytes read,at frame 31/32, at time 1.03/1.05 sec. Using the last valid frame instead.\n",
            "  warnings.warn(\"Warning: in file %s, \"%(self.filename)+\n",
            "\n",
            "t:  58%|█████▊    | 429/742 [00:06<00:06, 45.04it/s, now=None]WARNING:py.warnings:/usr/local/lib/python3.10/dist-packages/moviepy/video/io/ffmpeg_reader.py:123: UserWarning: Warning: in file /content/NLP_dataset/n.mp4, 921600 bytes wanted but 0 bytes read,at frame 31/32, at time 1.03/1.05 sec. Using the last valid frame instead.\n",
            "  warnings.warn(\"Warning: in file %s, \"%(self.filename)+\n",
            "\n",
            "t:  62%|██████▏   | 458/742 [00:07<00:07, 37.86it/s, now=None]WARNING:py.warnings:/usr/local/lib/python3.10/dist-packages/moviepy/video/io/ffmpeg_reader.py:123: UserWarning: Warning: in file /content/NLP_dataset/g.mp4, 921600 bytes wanted but 0 bytes read,at frame 30/32, at time 1.00/1.05 sec. Using the last valid frame instead.\n",
            "  warnings.warn(\"Warning: in file %s, \"%(self.filename)+\n",
            "\n",
            "t:  63%|██████▎   | 464/742 [00:07<00:06, 42.25it/s, now=None]WARNING:py.warnings:/usr/local/lib/python3.10/dist-packages/moviepy/video/io/ffmpeg_reader.py:123: UserWarning: Warning: in file /content/NLP_dataset/g.mp4, 921600 bytes wanted but 0 bytes read,at frame 31/32, at time 1.03/1.05 sec. Using the last valid frame instead.\n",
            "  warnings.warn(\"Warning: in file %s, \"%(self.filename)+\n",
            "\n",
            "t:  66%|██████▋   | 492/742 [00:08<00:07, 35.13it/s, now=None]WARNING:py.warnings:/usr/local/lib/python3.10/dist-packages/moviepy/video/io/ffmpeg_reader.py:123: UserWarning: Warning: in file /content/NLP_dataset/c.mp4, 921600 bytes wanted but 0 bytes read,at frame 30/32, at time 1.00/1.05 sec. Using the last valid frame instead.\n",
            "  warnings.warn(\"Warning: in file %s, \"%(self.filename)+\n",
            "\n",
            "t:  67%|██████▋   | 496/742 [00:08<00:06, 35.64it/s, now=None]WARNING:py.warnings:/usr/local/lib/python3.10/dist-packages/moviepy/video/io/ffmpeg_reader.py:123: UserWarning: Warning: in file /content/NLP_dataset/c.mp4, 921600 bytes wanted but 0 bytes read,at frame 31/32, at time 1.03/1.05 sec. Using the last valid frame instead.\n",
            "  warnings.warn(\"Warning: in file %s, \"%(self.filename)+\n",
            "\n",
            "t:  75%|███████▍  | 555/742 [00:10<00:04, 39.35it/s, now=None]WARNING:py.warnings:/usr/local/lib/python3.10/dist-packages/moviepy/video/io/ffmpeg_reader.py:123: UserWarning: Warning: in file /content/NLP_dataset/o.mp4, 921600 bytes wanted but 0 bytes read,at frame 60/62, at time 2.00/2.04 sec. Using the last valid frame instead.\n",
            "  warnings.warn(\"Warning: in file %s, \"%(self.filename)+\n",
            "\n",
            "WARNING:py.warnings:/usr/local/lib/python3.10/dist-packages/moviepy/video/io/ffmpeg_reader.py:123: UserWarning: Warning: in file /content/NLP_dataset/o.mp4, 921600 bytes wanted but 0 bytes read,at frame 61/62, at time 2.03/2.04 sec. Using the last valid frame instead.\n",
            "  warnings.warn(\"Warning: in file %s, \"%(self.filename)+\n",
            "\n",
            "t:  79%|███████▉  | 587/742 [00:10<00:03, 40.79it/s, now=None]WARNING:py.warnings:/usr/local/lib/python3.10/dist-packages/moviepy/video/io/ffmpeg_reader.py:123: UserWarning: Warning: in file /content/NLP_dataset/f.mp4, 921600 bytes wanted but 0 bytes read,at frame 30/32, at time 1.00/1.05 sec. Using the last valid frame instead.\n",
            "  warnings.warn(\"Warning: in file %s, \"%(self.filename)+\n",
            "\n",
            "t:  83%|████████▎ | 618/742 [00:11<00:02, 44.74it/s, now=None]WARNING:py.warnings:/usr/local/lib/python3.10/dist-packages/moviepy/video/io/ffmpeg_reader.py:123: UserWarning: Warning: in file /content/NLP_dataset/f.mp4, 921600 bytes wanted but 0 bytes read,at frame 31/32, at time 1.03/1.05 sec. Using the last valid frame instead.\n",
            "  warnings.warn(\"Warning: in file %s, \"%(self.filename)+\n",
            "\n",
            "t:  92%|█████████▏| 680/742 [00:13<00:01, 37.78it/s, now=None]WARNING:py.warnings:/usr/local/lib/python3.10/dist-packages/moviepy/video/io/ffmpeg_reader.py:123: UserWarning: Warning: in file /content/NLP_dataset/e.mp4, 921600 bytes wanted but 0 bytes read,at frame 60/62, at time 2.00/2.04 sec. Using the last valid frame instead.\n",
            "  warnings.warn(\"Warning: in file %s, \"%(self.filename)+\n",
            "\n"
          ]
        },
        {
          "output_type": "stream",
          "name": "stdout",
          "text": [
            "Moviepy - Done !\n",
            "Moviepy - video ready merged.mp4\n"
          ]
        }
      ],
      "source": [
        "text_to_vid(speech)"
      ]
    }
  ],
  "metadata": {
    "accelerator": "GPU",
    "colab": {
      "gpuType": "T4",
      "provenance": []
    },
    "kernelspec": {
      "display_name": "Python 3",
      "name": "python3"
    },
    "language_info": {
      "name": "python"
    }
  },
  "nbformat": 4,
  "nbformat_minor": 0
}